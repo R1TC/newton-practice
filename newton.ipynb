{
 "cells": [
  {
   "cell_type": "markdown",
   "id": "11e819b5-0f94-425a-b2af-3ea1a2ef97aa",
   "metadata": {},
   "source": [
    "# Exercise: Implement univariate Newton’s method as a Python function"
   ]
  },
  {
   "cell_type": "code",
   "execution_count": 10,
   "id": "d60c3a92-a58f-460f-91a2-23674beef347",
   "metadata": {},
   "outputs": [
    {
     "ename": "TypeError",
     "evalue": "D1_x() missing 1 required positional argument: 'epsilon'",
     "output_type": "error",
     "traceback": [
      "\u001b[1;31m---------------------------------------------------------------------------\u001b[0m",
      "\u001b[1;31mTypeError\u001b[0m                                 Traceback (most recent call last)",
      "Cell \u001b[1;32mIn[10], line 26\u001b[0m\n\u001b[0;32m     23\u001b[0m     \u001b[38;5;28;01melse\u001b[39;00m:\n\u001b[0;32m     24\u001b[0m         \u001b[38;5;28mprint\u001b[39m(\u001b[38;5;124m\"\u001b[39m\u001b[38;5;124mLoop finished normally.\u001b[39m\u001b[38;5;124m\"\u001b[39m)\n\u001b[1;32m---> 26\u001b[0m N_M(\u001b[38;5;241m2\u001b[39m,\u001b[38;5;241m0.1\u001b[39m,\u001b[38;5;241m0.1\u001b[39m)\n",
      "Cell \u001b[1;32mIn[10], line 21\u001b[0m, in \u001b[0;36mN_M\u001b[1;34m(x_0, tol, epsilon)\u001b[0m\n\u001b[0;32m     19\u001b[0m x_t_1 \u001b[38;5;241m=\u001b[39m x_0\n\u001b[0;32m     20\u001b[0m \u001b[38;5;28;01mwhile\u001b[39;00m difference \u001b[38;5;241m>\u001b[39m tol:\n\u001b[1;32m---> 21\u001b[0m     x_t \u001b[38;5;241m=\u001b[39m x_t_1 \u001b[38;5;241m-\u001b[39m (D1_x(x_t_1,epsilon))\u001b[38;5;241m/\u001b[39m(D2_x(x_t_1,epsilon))\n\u001b[0;32m     22\u001b[0m     difference \u001b[38;5;241m=\u001b[39m \u001b[38;5;28mabs\u001b[39m(x_t\u001b[38;5;241m-\u001b[39mx_t_1)\n\u001b[0;32m     23\u001b[0m \u001b[38;5;28;01melse\u001b[39;00m:\n",
      "Cell \u001b[1;32mIn[10], line 13\u001b[0m, in \u001b[0;36mD2_x\u001b[1;34m(x, epsilon)\u001b[0m\n\u001b[0;32m     12\u001b[0m \u001b[38;5;28;01mdef\u001b[39;00m \u001b[38;5;21mD2_x\u001b[39m(x,epsilon):\n\u001b[1;32m---> 13\u001b[0m     result \u001b[38;5;241m=\u001b[39m (D1_x(x\u001b[38;5;241m+\u001b[39mepsilon)\u001b[38;5;241m-\u001b[39mD1_x(x))\u001b[38;5;241m/\u001b[39mepsilon\n\u001b[0;32m     14\u001b[0m     \u001b[38;5;28;01mreturn\u001b[39;00m result\n",
      "\u001b[1;31mTypeError\u001b[0m: D1_x() missing 1 required positional argument: 'epsilon'"
     ]
    }
   ],
   "source": [
    "# Function:\n",
    "def f_x(x):\n",
    "    result = x**2-2*x+1\n",
    "    return result\n",
    "\n",
    "# Approximate first derivative\n",
    "def D1_x(x,epsilon):\n",
    "    result = (f_x(x+epsilon)-f_x(x))/epsilon\n",
    "    return result\n",
    "\n",
    "# Approximate second derivative\n",
    "def D2_x(x,epsilon):\n",
    "    result = (D1_x(x+epsilon)-D1_x(x))/epsilon\n",
    "    return result\n",
    "\n",
    "# Newton method : tol= Newton method tolerance, epsilon: derivative approximation epsilon\n",
    "def N_M(x_0,tol,epsilon):\n",
    "    difference = 1\n",
    "    x_t_1 = x_0\n",
    "    while difference > tol:\n",
    "        x_t = x_t_1 - (D1_x(x_t_1,epsilon))/(D2_x(x_t_1,epsilon))\n",
    "        difference = abs(x_t-x_t_1)\n",
    "    else:\n",
    "        print(\"Loop finished normally.\")\n",
    "\n",
    "N_M(2,0.1,0.1)\n"
   ]
  },
  {
   "cell_type": "code",
   "execution_count": null,
   "id": "ab94c2ff-00a4-4c53-96c7-9b9bcd5729bd",
   "metadata": {},
   "outputs": [],
   "source": []
  }
 ],
 "metadata": {
  "kernelspec": {
   "display_name": "Python 3 (ipykernel)",
   "language": "python",
   "name": "python3"
  },
  "language_info": {
   "codemirror_mode": {
    "name": "ipython",
    "version": 3
   },
   "file_extension": ".py",
   "mimetype": "text/x-python",
   "name": "python",
   "nbconvert_exporter": "python",
   "pygments_lexer": "ipython3",
   "version": "3.11.7"
  }
 },
 "nbformat": 4,
 "nbformat_minor": 5
}
